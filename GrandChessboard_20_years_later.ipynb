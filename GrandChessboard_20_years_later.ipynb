{
 "cells": [
  {
   "cell_type": "markdown",
   "metadata": {},
   "source": [
    "# Grand Chessboard 20 years later\n",
    "\n",
    "This notebook aims to provide qunatitative information on the variables that appeared in the book \"The Grand Chessboard\" by Zbigniew Brzezinski first published in 1997.\n",
    "\n",
    "Data used are for years: 1997 and 2017-18 and the period in-between.\n",
    "\n",
    "The focus in on analyzing the relative role of the USA/North America in the global system. To this end selected measures are used.\n",
    "\n",
    "\n",
    "The \"Grand Chessboard\" is, rather arbitrarily, classified into the following zones in this analysis:\n",
    "1. European Union - represents the European Rimland\n",
    "2. Eastern and Southern Asia - represents Asian Rimland\n",
    "3. Middle East\n",
    "4. Heartland\n",
    "\n",
    "\n",
    "\n",
    "The overview is split in the following (also quite arbitrary) sections:\n",
    "1. Population\n",
    "2. Economy\n",
    "3. Energy\n",
    "4. Military\n",
    "\n"
   ]
  },
  {
   "cell_type": "code",
   "execution_count": 5,
   "metadata": {},
   "outputs": [],
   "source": [
    "library(ggplot2, quietly = TRUE)\n",
    "library(data.table, quietly = TRUE)\n",
    "library(zoo, quietly = TRUE)\n",
    "library(dplyr, quietly = TRUE)\n",
    "library(magrittr, quietly = TRUE)"
   ]
  },
  {
   "cell_type": "markdown",
   "metadata": {},
   "source": [
    "## 1. Population"
   ]
  },
  {
   "cell_type": "code",
   "execution_count": 9,
   "metadata": {},
   "outputs": [
    {
     "data": {
      "text/html": [
       "<table>\n",
       "<thead><tr><th scope=col>Time</th><th scope=col>country</th><th scope=col>total_population_headcount</th><th scope=col>urban_population_headcount</th><th scope=col>rural_population_headcount</th><th scope=col>internet_acces_percentage</th><th scope=col>electricity_access_percentage</th><th scope=col>secure_internet_servers_count</th><th scope=col>poverty_headcount_at_1dot90</th><th scope=col>poverty_headcount_at_3dot20</th><th scope=col>poverty_headcount_at_5dot50</th><th scope=col>poverty_headcount_at_national_poverty_lvl</th><th scope=col>electric_power_consumption_kwh_per_capita</th></tr></thead>\n",
       "<tbody>\n",
       "\t<tr><td>1969       </td><td>Afghanistan</td><td>10854428   </td><td>1223837    </td><td> 9630591   </td><td>NA         </td><td>NA         </td><td>NA         </td><td>NA         </td><td>NA         </td><td>NA         </td><td>NA         </td><td>NA         </td></tr>\n",
       "\t<tr><td>1970       </td><td>Afghanistan</td><td>11126123   </td><td>1295415    </td><td> 9830708   </td><td>NA         </td><td>NA         </td><td>NA         </td><td>NA         </td><td>NA         </td><td>NA         </td><td>NA         </td><td>NA         </td></tr>\n",
       "\t<tr><td>1971       </td><td>Afghanistan</td><td>11417825   </td><td>1372537    </td><td>10045288   </td><td>NA         </td><td>NA         </td><td>NA         </td><td>NA         </td><td>NA         </td><td>NA         </td><td>NA         </td><td>NA         </td></tr>\n",
       "\t<tr><td>1972       </td><td>Afghanistan</td><td>11721940   </td><td>1454693    </td><td>10267247   </td><td>NA         </td><td>NA         </td><td>NA         </td><td>NA         </td><td>NA         </td><td>NA         </td><td>NA         </td><td>NA         </td></tr>\n",
       "\t<tr><td>1973       </td><td>Afghanistan</td><td>12027822   </td><td>1540644    </td><td>10487178   </td><td>NA         </td><td>NA         </td><td>NA         </td><td>NA         </td><td>NA         </td><td>NA         </td><td>NA         </td><td>NA         </td></tr>\n",
       "\t<tr><td>1974       </td><td>Afghanistan</td><td>12321541   </td><td>1628785    </td><td>10692756   </td><td>NA         </td><td>NA         </td><td>NA         </td><td>NA         </td><td>NA         </td><td>NA         </td><td>NA         </td><td>NA         </td></tr>\n",
       "</tbody>\n",
       "</table>\n"
      ],
      "text/latex": [
       "\\begin{tabular}{r|lllllllllllll}\n",
       " Time & country & total\\_population\\_headcount & urban\\_population\\_headcount & rural\\_population\\_headcount & internet\\_acces\\_percentage & electricity\\_access\\_percentage & secure\\_internet\\_servers\\_count & poverty\\_headcount\\_at\\_1dot90 & poverty\\_headcount\\_at\\_3dot20 & poverty\\_headcount\\_at\\_5dot50 & poverty\\_headcount\\_at\\_national\\_poverty\\_lvl & electric\\_power\\_consumption\\_kwh\\_per\\_capita\\\\\n",
       "\\hline\n",
       "\t 1969        & Afghanistan & 10854428    & 1223837     &  9630591    & NA          & NA          & NA          & NA          & NA          & NA          & NA          & NA         \\\\\n",
       "\t 1970        & Afghanistan & 11126123    & 1295415     &  9830708    & NA          & NA          & NA          & NA          & NA          & NA          & NA          & NA         \\\\\n",
       "\t 1971        & Afghanistan & 11417825    & 1372537     & 10045288    & NA          & NA          & NA          & NA          & NA          & NA          & NA          & NA         \\\\\n",
       "\t 1972        & Afghanistan & 11721940    & 1454693     & 10267247    & NA          & NA          & NA          & NA          & NA          & NA          & NA          & NA         \\\\\n",
       "\t 1973        & Afghanistan & 12027822    & 1540644     & 10487178    & NA          & NA          & NA          & NA          & NA          & NA          & NA          & NA         \\\\\n",
       "\t 1974        & Afghanistan & 12321541    & 1628785     & 10692756    & NA          & NA          & NA          & NA          & NA          & NA          & NA          & NA         \\\\\n",
       "\\end{tabular}\n"
      ],
      "text/markdown": [
       "\n",
       "Time | country | total_population_headcount | urban_population_headcount | rural_population_headcount | internet_acces_percentage | electricity_access_percentage | secure_internet_servers_count | poverty_headcount_at_1dot90 | poverty_headcount_at_3dot20 | poverty_headcount_at_5dot50 | poverty_headcount_at_national_poverty_lvl | electric_power_consumption_kwh_per_capita | \n",
       "|---|---|---|---|---|---|\n",
       "| 1969        | Afghanistan | 10854428    | 1223837     |  9630591    | NA          | NA          | NA          | NA          | NA          | NA          | NA          | NA          | \n",
       "| 1970        | Afghanistan | 11126123    | 1295415     |  9830708    | NA          | NA          | NA          | NA          | NA          | NA          | NA          | NA          | \n",
       "| 1971        | Afghanistan | 11417825    | 1372537     | 10045288    | NA          | NA          | NA          | NA          | NA          | NA          | NA          | NA          | \n",
       "| 1972        | Afghanistan | 11721940    | 1454693     | 10267247    | NA          | NA          | NA          | NA          | NA          | NA          | NA          | NA          | \n",
       "| 1973        | Afghanistan | 12027822    | 1540644     | 10487178    | NA          | NA          | NA          | NA          | NA          | NA          | NA          | NA          | \n",
       "| 1974        | Afghanistan | 12321541    | 1628785     | 10692756    | NA          | NA          | NA          | NA          | NA          | NA          | NA          | NA          | \n",
       "\n",
       "\n"
      ],
      "text/plain": [
       "  Time country     total_population_headcount urban_population_headcount\n",
       "1 1969 Afghanistan 10854428                   1223837                   \n",
       "2 1970 Afghanistan 11126123                   1295415                   \n",
       "3 1971 Afghanistan 11417825                   1372537                   \n",
       "4 1972 Afghanistan 11721940                   1454693                   \n",
       "5 1973 Afghanistan 12027822                   1540644                   \n",
       "6 1974 Afghanistan 12321541                   1628785                   \n",
       "  rural_population_headcount internet_acces_percentage\n",
       "1  9630591                   NA                       \n",
       "2  9830708                   NA                       \n",
       "3 10045288                   NA                       \n",
       "4 10267247                   NA                       \n",
       "5 10487178                   NA                       \n",
       "6 10692756                   NA                       \n",
       "  electricity_access_percentage secure_internet_servers_count\n",
       "1 NA                            NA                           \n",
       "2 NA                            NA                           \n",
       "3 NA                            NA                           \n",
       "4 NA                            NA                           \n",
       "5 NA                            NA                           \n",
       "6 NA                            NA                           \n",
       "  poverty_headcount_at_1dot90 poverty_headcount_at_3dot20\n",
       "1 NA                          NA                         \n",
       "2 NA                          NA                         \n",
       "3 NA                          NA                         \n",
       "4 NA                          NA                         \n",
       "5 NA                          NA                         \n",
       "6 NA                          NA                         \n",
       "  poverty_headcount_at_5dot50 poverty_headcount_at_national_poverty_lvl\n",
       "1 NA                          NA                                       \n",
       "2 NA                          NA                                       \n",
       "3 NA                          NA                                       \n",
       "4 NA                          NA                                       \n",
       "5 NA                          NA                                       \n",
       "6 NA                          NA                                       \n",
       "  electric_power_consumption_kwh_per_capita\n",
       "1 NA                                       \n",
       "2 NA                                       \n",
       "3 NA                                       \n",
       "4 NA                                       \n",
       "5 NA                                       \n",
       "6 NA                                       "
      ]
     },
     "metadata": {},
     "output_type": "display_data"
    },
    {
     "data": {
      "text/html": [
       "<table>\n",
       "<thead><tr><th scope=col>Time</th><th scope=col>country</th><th scope=col>total_population_headcount</th><th scope=col>urban_population_headcount</th><th scope=col>rural_population_headcount</th><th scope=col>internet_acces_percentage</th><th scope=col>electricity_access_percentage</th><th scope=col>secure_internet_servers_count</th><th scope=col>poverty_headcount_at_1dot90</th><th scope=col>poverty_headcount_at_3dot20</th><th scope=col>poverty_headcount_at_5dot50</th><th scope=col>poverty_headcount_at_national_poverty_lvl</th><th scope=col>electric_power_consumption_kwh_per_capita</th></tr></thead>\n",
       "<tbody>\n",
       "\t<tr><td>2013    </td><td>Zimbabwe</td><td>15054506</td><td>4915898 </td><td>10138608</td><td>15.50000</td><td>37.07681</td><td> 64     </td><td>NA      </td><td>NA      </td><td>NA      </td><td>NA      </td><td>557.5739</td></tr>\n",
       "\t<tr><td>2014    </td><td>Zimbabwe</td><td>15411675</td><td>5009411 </td><td>10402264</td><td>16.36474</td><td>32.30000</td><td>108     </td><td>NA      </td><td>NA      </td><td>NA      </td><td>NA      </td><td>536.9955</td></tr>\n",
       "\t<tr><td>2015    </td><td>Zimbabwe</td><td>15777451</td><td>5109528 </td><td>10667923</td><td>22.74282</td><td>33.70000</td><td>162     </td><td>NA      </td><td>NA      </td><td>NA      </td><td>NA      </td><td>      NA</td></tr>\n",
       "\t<tr><td>2016    </td><td>Zimbabwe</td><td>16150362</td><td>5215921 </td><td>10934441</td><td>23.11999</td><td>38.14514</td><td>194     </td><td>NA      </td><td>NA      </td><td>NA      </td><td>NA      </td><td>      NA</td></tr>\n",
       "\t<tr><td>2017    </td><td>Zimbabwe</td><td>16529904</td><td>5328745 </td><td>11201159</td><td>      NA</td><td>      NA</td><td>435     </td><td>NA      </td><td>NA      </td><td>NA      </td><td>NA      </td><td>      NA</td></tr>\n",
       "\t<tr><td>2018    </td><td>Zimbabwe</td><td>      NA</td><td>     NA </td><td>      NA</td><td>      NA</td><td>      NA</td><td>673     </td><td>NA      </td><td>NA      </td><td>NA      </td><td>NA      </td><td>      NA</td></tr>\n",
       "</tbody>\n",
       "</table>\n"
      ],
      "text/latex": [
       "\\begin{tabular}{r|lllllllllllll}\n",
       " Time & country & total\\_population\\_headcount & urban\\_population\\_headcount & rural\\_population\\_headcount & internet\\_acces\\_percentage & electricity\\_access\\_percentage & secure\\_internet\\_servers\\_count & poverty\\_headcount\\_at\\_1dot90 & poverty\\_headcount\\_at\\_3dot20 & poverty\\_headcount\\_at\\_5dot50 & poverty\\_headcount\\_at\\_national\\_poverty\\_lvl & electric\\_power\\_consumption\\_kwh\\_per\\_capita\\\\\n",
       "\\hline\n",
       "\t 2013     & Zimbabwe & 15054506 & 4915898  & 10138608 & 15.50000 & 37.07681 &  64      & NA       & NA       & NA       & NA       & 557.5739\\\\\n",
       "\t 2014     & Zimbabwe & 15411675 & 5009411  & 10402264 & 16.36474 & 32.30000 & 108      & NA       & NA       & NA       & NA       & 536.9955\\\\\n",
       "\t 2015     & Zimbabwe & 15777451 & 5109528  & 10667923 & 22.74282 & 33.70000 & 162      & NA       & NA       & NA       & NA       &       NA\\\\\n",
       "\t 2016     & Zimbabwe & 16150362 & 5215921  & 10934441 & 23.11999 & 38.14514 & 194      & NA       & NA       & NA       & NA       &       NA\\\\\n",
       "\t 2017     & Zimbabwe & 16529904 & 5328745  & 11201159 &       NA &       NA & 435      & NA       & NA       & NA       & NA       &       NA\\\\\n",
       "\t 2018     & Zimbabwe &       NA &      NA  &       NA &       NA &       NA & 673      & NA       & NA       & NA       & NA       &       NA\\\\\n",
       "\\end{tabular}\n"
      ],
      "text/markdown": [
       "\n",
       "Time | country | total_population_headcount | urban_population_headcount | rural_population_headcount | internet_acces_percentage | electricity_access_percentage | secure_internet_servers_count | poverty_headcount_at_1dot90 | poverty_headcount_at_3dot20 | poverty_headcount_at_5dot50 | poverty_headcount_at_national_poverty_lvl | electric_power_consumption_kwh_per_capita | \n",
       "|---|---|---|---|---|---|\n",
       "| 2013     | Zimbabwe | 15054506 | 4915898  | 10138608 | 15.50000 | 37.07681 |  64      | NA       | NA       | NA       | NA       | 557.5739 | \n",
       "| 2014     | Zimbabwe | 15411675 | 5009411  | 10402264 | 16.36474 | 32.30000 | 108      | NA       | NA       | NA       | NA       | 536.9955 | \n",
       "| 2015     | Zimbabwe | 15777451 | 5109528  | 10667923 | 22.74282 | 33.70000 | 162      | NA       | NA       | NA       | NA       |       NA | \n",
       "| 2016     | Zimbabwe | 16150362 | 5215921  | 10934441 | 23.11999 | 38.14514 | 194      | NA       | NA       | NA       | NA       |       NA | \n",
       "| 2017     | Zimbabwe | 16529904 | 5328745  | 11201159 |       NA |       NA | 435      | NA       | NA       | NA       | NA       |       NA | \n",
       "| 2018     | Zimbabwe |       NA |      NA  |       NA |       NA |       NA | 673      | NA       | NA       | NA       | NA       |       NA | \n",
       "\n",
       "\n"
      ],
      "text/plain": [
       "  Time country  total_population_headcount urban_population_headcount\n",
       "1 2013 Zimbabwe 15054506                   4915898                   \n",
       "2 2014 Zimbabwe 15411675                   5009411                   \n",
       "3 2015 Zimbabwe 15777451                   5109528                   \n",
       "4 2016 Zimbabwe 16150362                   5215921                   \n",
       "5 2017 Zimbabwe 16529904                   5328745                   \n",
       "6 2018 Zimbabwe       NA                        NA                   \n",
       "  rural_population_headcount internet_acces_percentage\n",
       "1 10138608                   15.50000                 \n",
       "2 10402264                   16.36474                 \n",
       "3 10667923                   22.74282                 \n",
       "4 10934441                   23.11999                 \n",
       "5 11201159                         NA                 \n",
       "6       NA                         NA                 \n",
       "  electricity_access_percentage secure_internet_servers_count\n",
       "1 37.07681                       64                          \n",
       "2 32.30000                      108                          \n",
       "3 33.70000                      162                          \n",
       "4 38.14514                      194                          \n",
       "5       NA                      435                          \n",
       "6       NA                      673                          \n",
       "  poverty_headcount_at_1dot90 poverty_headcount_at_3dot20\n",
       "1 NA                          NA                         \n",
       "2 NA                          NA                         \n",
       "3 NA                          NA                         \n",
       "4 NA                          NA                         \n",
       "5 NA                          NA                         \n",
       "6 NA                          NA                         \n",
       "  poverty_headcount_at_5dot50 poverty_headcount_at_national_poverty_lvl\n",
       "1 NA                          NA                                       \n",
       "2 NA                          NA                                       \n",
       "3 NA                          NA                                       \n",
       "4 NA                          NA                                       \n",
       "5 NA                          NA                                       \n",
       "6 NA                          NA                                       \n",
       "  electric_power_consumption_kwh_per_capita\n",
       "1 557.5739                                 \n",
       "2 536.9955                                 \n",
       "3       NA                                 \n",
       "4       NA                                 \n",
       "5       NA                                 \n",
       "6       NA                                 "
      ]
     },
     "metadata": {},
     "output_type": "display_data"
    }
   ],
   "source": [
    "# load data on population\n",
    "dtPopulationData <- read.csv(file = file.path(getwd(), \"data\", \n",
    "                                              \"GrandChessboardPopulationData.csv\"),\n",
    "                             na.strings = \"..\", stringsAsFactors = FALSE) %>%\n",
    "  data.table::as.data.table()\n",
    "data.table::setnames(x = dtPopulationData, \n",
    "                     old = c(\n",
    "                       \"Country.Name\",\n",
    "                       \"Population..total..SP.POP.TOTL.\",\n",
    "                       \"Urban.population..SP.URB.TOTL.\",\n",
    "                       \"Rural.population..SP.RUR.TOTL.\",\n",
    "                       \"Individuals.using.the.Internet....of.population...IT.NET.USER.ZS.\",\n",
    "                       \"Access.to.electricity....of.population...EG.ELC.ACCS.ZS.\",\n",
    "                       \"Secure.Internet.servers..IT.NET.SECR.\",\n",
    "                       \"Poverty.headcount.ratio.at..1.90.a.day..2011.PPP.....of.population...SI.POV.DDAY.\",\n",
    "                       \"Poverty.headcount.ratio.at..3.20.a.day..2011.PPP.....of.population...SI.POV.LMIC.\",\n",
    "                       \"Poverty.headcount.ratio.at..5.50.a.day..2011.PPP.....of.population...SI.POV.UMIC.\",\n",
    "                       \"Poverty.headcount.ratio.at.national.poverty.lines....of.population...SI.POV.NAHC.\",\n",
    "                       \"Electric.power.consumption..kWh.per.capita...EG.USE.ELEC.KH.PC.\"\n",
    "                     ), \n",
    "                     new = c(\n",
    "                       \"country\",\n",
    "                       \"total_population_headcount\",\n",
    "                       \"urban_population_headcount\",\n",
    "                       \"rural_population_headcount\",\n",
    "                       \"internet_acces_percentage\",\n",
    "                       \"electricity_access_percentage\",\n",
    "                       \"secure_internet_servers_count\",\n",
    "                       \"poverty_headcount_at_1dot90\",\n",
    "                       \"poverty_headcount_at_3dot20\",\n",
    "                       \"poverty_headcount_at_5dot50\",\n",
    "                       \"poverty_headcount_at_national_poverty_lvl\",\n",
    "                       \"electric_power_consumption_kwh_per_capita\"\n",
    "                     ))\n",
    "dtPopulationData <- \n",
    "  dtPopulationData %>% dplyr::select(-Time.Code, -Country.Code) %>%\n",
    "  data.table::as.data.table()\n",
    "dtPopulationData <- dtPopulationData[order(country), ]\n",
    "head(dtPopulationData)\n",
    "tail(dtPopulationData)"
   ]
  },
  {
   "cell_type": "code",
   "execution_count": 11,
   "metadata": {},
   "outputs": [],
   "source": [
    "# select regions of interest\n",
    "cRegionsOfInterest <- c(\n",
    "  \"North America\",\n",
    "  \"European Union\",\n",
    "  \"Latin America & Caribbean\",\n",
    "  \"South Asia\",\n",
    "  \"East Asia & Pacific\",\n",
    "  \"Middle East & North Africa\"\n",
    ")\n",
    "dtPopulationDataByRegion <- dtPopulationData[country %in% cRegionsOfInterest & \n",
    "                                               Time %in% c(1997, 2017), ]\n",
    "dtPopulationDataByRegion$Time <- as.character(dtPopulationDataByRegion$Time)"
   ]
  },
  {
   "cell_type": "code",
   "execution_count": 13,
   "metadata": {},
   "outputs": [
    {
     "data": {},
     "metadata": {},
     "output_type": "display_data"
    },
    {
     "data": {
      "image/png": "[encoded data removed]",
      "text/plain": [
       "plot without title"
      ]
     },
     "metadata": {},
     "output_type": "display_data"
    }
   ],
   "source": [
    "plotBarChartPopulation <- ggplot2::ggplot(data = dtPopulationDataByRegion) +\n",
    "  ggplot2::aes(x = country, y = total_population_headcount, \n",
    "               fill = Time) + \n",
    "  ggplot2::geom_bar(stat = \"identity\", position = ggplot2::position_dodge()) + \n",
    "  ggplot2::theme_bw() +\n",
    "  ggplot2::xlab(label = \"Region\") +\n",
    "  ggplot2::ylab(label = \"Population\") +\n",
    "  ggplot2::scale_fill_manual(values = c(\"red\", \"blue\"))\n",
    "plotBarChartPopulation"
   ]
  }
 ],
 "metadata": {
  "kernelspec": {
   "display_name": "R",
   "language": "R",
   "name": "ir"
  },
  "language_info": {
   "codemirror_mode": "r",
   "file_extension": ".r",
   "mimetype": "text/x-r-source",
   "name": "R",
   "pygments_lexer": "r",
   "version": "3.5.1"
  }
 },
 "nbformat": 4,
 "nbformat_minor": 2
}
